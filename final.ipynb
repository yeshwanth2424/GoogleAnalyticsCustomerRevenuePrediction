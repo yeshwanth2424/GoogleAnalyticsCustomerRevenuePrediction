{
 "cells": [
  {
   "cell_type": "code",
   "execution_count": 61,
   "metadata": {
    "id": "7qPjuNd-pSJ8"
   },
   "outputs": [],
   "source": [
    "#import libraries\n",
    "\n",
    "import warnings\n",
    "warnings.filterwarnings(\"ignore\")\n",
    "import pandas as pd\n",
    "import pickle"
   ]
  },
  {
   "cell_type": "code",
   "execution_count": 3,
   "metadata": {
    "colab": {
     "base_uri": "https://localhost:8080/"
    },
    "id": "9P-RWtLxvGb0",
    "outputId": "b8f07bec-6939-4f5a-a9d9-66afce9a0bbd"
   },
   "outputs": [
    {
     "name": "stdout",
     "output_type": "stream",
     "text": [
      "Drive already mounted at /content/drive; to attempt to forcibly remount, call drive.mount(\"/content/drive\", force_remount=True).\n"
     ]
    }
   ],
   "source": [
    "from google.colab import drive\n",
    "drive.mount('/content/drive')"
   ]
  },
  {
   "cell_type": "markdown",
   "metadata": {
    "id": "i2TUY34jXWlI"
   },
   "source": [
    "## FINAL PREDICTION FUNCTION"
   ]
  },
  {
   "cell_type": "code",
   "execution_count": 50,
   "metadata": {
    "id": "4-34eVvCqk_V"
   },
   "outputs": [],
   "source": [
    "def final_prediction(data_points):\n",
    "    \n",
    "    columns = ['totals.sessionQualityDim', 'trafficSource.source', 'visitNumber',\n",
    "       'channelGrouping', 'totals.timeOnSite', 'trafficSource.keyword',\n",
    "        'geoNetwork.metro', 'totals.pageviews', 'geoNetwork.city',\n",
    "       'device.deviceCategory', 'trafficSource.medium', 'device.browser',\n",
    "       'device.operatingSystem', 'device.isMobile', 'geoNetwork.networkDomain',\n",
    "       'visitStartTime', 'totals.hits', 'trafficSource.referralPath',\n",
    "       'fullVisitorId', 'geoNetwork.country',\n",
    "       'totals.transactions', 'date', 'geoNetwork.continent',\n",
    "       'geoNetwork.subContinent', 'geoNetwork.region',\n",
    "       ]\n",
    "\n",
    "    # create a dataframe from given data points\n",
    "    data_df = pd.DataFrame(data = data_points ,columns=columns)\n",
    "    #print(data_df)\n",
    "      \n",
    "    # preprocess the boolean feature\n",
    "    data_df['device.isMobile']  = data_df['device.isMobile'].astype(bool)\n",
    "    print(\"Boolean feature preprocessing done..!\")\n",
    "\n",
    "    # preprocess the numerical features\n",
    "    numerical_cols = [\"totals.hits\", \"totals.pageviews\", \"visitNumber\", \"visitStartTime\",'totals.timeOnSite','totals.transactions']     \n",
    "    \n",
    "    for col in numerical_cols:\n",
    "        data_df[col].fillna(0,inplace=True)\n",
    "        data_df[col] = data_df[col].astype('float')\n",
    "    \n",
    "    print(\"Numerical feature preprocessing done..!\")\n",
    "\n",
    "    \n",
    "    \n",
    "    # preprocess the categorical features\n",
    "    categorical_cols =  [\"channelGrouping\", \n",
    "                       \"device.browser\", \"device.deviceCategory\", \"device.operatingSystem\", \n",
    "                       \"geoNetwork.city\", \"geoNetwork.continent\", \"geoNetwork.country\", \"geoNetwork.metro\",\n",
    "                       \"geoNetwork.networkDomain\", \"geoNetwork.region\", \"geoNetwork.subContinent\", \n",
    "                       \"trafficSource.keyword\", \"trafficSource.medium\",\n",
    "                       \"trafficSource.referralPath\", \"trafficSource.source\",\n",
    "                       \"totals.sessionQualityDim\" ]\n",
    "    \n",
    "    for col in categorical_cols:\n",
    "        with open('/content/drive/MyDrive/Colab_Notebooks/Google_Analytics_Customer_Revenue_Prediction/label_encoders/'+col+'.pkl', 'rb') as file:\n",
    "          le = pickle.load(file)\n",
    "\n",
    "        data_df[col] = le.transform(list(data_df[col].values.astype('str')))\n",
    "\n",
    "    print(\"categorical feature preprocessing done..!\")\n",
    "\n",
    "    # Featurization of data point:\n",
    "\n",
    "    #max date and min date used for featurization purpose\n",
    "    data_maxdate = max(data_df['date'])\n",
    "    data_mindate = min(data_df['date'])\n",
    "    \n",
    "    #Additional features after time series featurization \n",
    "    data_df = data_df.groupby('fullVisitorId').agg({\n",
    "            'geoNetwork.networkDomain': [('networkDomain' , lambda x: x.dropna().max())], #max value of network domain\n",
    "            'geoNetwork.city':          [('city' , lambda x: x.dropna().max())],  #max value of city\n",
    "            'device.operatingSystem':   [('operatingSystem' , lambda x: x.dropna().max())],  #max value of Operating System\n",
    "            'geoNetwork.metro':         [('metro' , lambda x: x.dropna().max())],  #max value of metro\n",
    "            'geoNetwork.region':        [('region' , lambda x: x.dropna().max())],   #max vaue of region\n",
    "            'channelGrouping':          [('channelGrouping' , lambda x: x.dropna().max())],  #max value of channel grouping\n",
    "          'trafficSource.referralPath': [('referralPath' , lambda x: x.dropna().max())],  #max value of referral path\n",
    "            'geoNetwork.country':       [('country' , lambda x: x.dropna().max())],    #max value of country\n",
    "            'trafficSource.source':     [('source' , lambda x: x.dropna().max())],   #max value of source\n",
    "            'trafficSource.medium':     [('medium' , lambda x: x.dropna().max())],   #max value of medium\n",
    "            'trafficSource.keyword':    [('keyword', lambda x: x.dropna().max())], #max value of keyboard\n",
    "            'device.browser':           [('browser' , lambda x: x.dropna().max())],  #max value of browser\n",
    "            'device.deviceCategory':    [('deviceCategory', lambda x: x.dropna().max())], #max of device category\n",
    "            'geoNetwork.continent':     [('continent' , lambda x: x.dropna().max())],      #max of continent value\n",
    "            'geoNetwork.subContinent':  [('subcontinent' , lambda x: x.dropna().max())],  #max of sub_continent value\n",
    "            'totals.timeOnSite':        [('timeOnSite_sum'  , lambda x: x.dropna().sum()),     # total timeonsite of user\n",
    "                                         ('timeOnSite_min'  , lambda x: x.dropna().min()),     # min timeonsite\n",
    "                                         ('timeOnSite_max'  , lambda x: x.dropna().max()),     # max timeonsite\n",
    "                                         ('timeOnSite_mean' , lambda x: x.dropna().mean())],  # mean timeonsite\n",
    "            'totals.pageviews':         [('pageviews_sum'  , lambda x: x.dropna().sum()),     # total of page views\n",
    "                                         ('pageviews_min'  , lambda x: x.dropna().min()),     # min of page views\n",
    "                                         ('pageviews_max'  , lambda x: x.dropna().max()),     # max of page views\n",
    "                                         ('pageviews_mean' , lambda x: x.dropna().mean())],  # mean of page views\n",
    "            'totals.hits':              [('hits_sum'  , lambda x: x.dropna().sum()),     # total of hits\n",
    "                                         ('hits_min'  , lambda x: x.dropna().min()),     # min of hits\n",
    "                                         ('hits_max'  , lambda x: x.dropna().max()),     # max of hits\n",
    "                                         ('hits_mean' , lambda x: x.dropna().mean())],  # mean of hits\n",
    "            'visitStartTime':           [('visitStartTime_counts' , lambda x: x.dropna().count())], #Count of visitStartTime\n",
    "            'totals.sessionQualityDim': [('sessionQualityDim' , lambda x: x.dropna().max())], #Max value of sessionQualityDim\n",
    "            'device.isMobile':          [('isMobile' ,  lambda x: x.dropna().max())], #Max value of isMobile\n",
    "            'visitNumber':              [('visitNumber_max' , lambda x: x.dropna().max())],  #Maximum number of visits.\n",
    "            'totals.transactions' :     [('transactions' , lambda x:x.dropna().sum())], #Summation of all the transaction counts.\n",
    "            'date':                     [('days_before_the_period_start' , lambda x: x.dropna().min() - data_mindate), #days_before_the_period_start for current frame.\n",
    "                                         ('days_before_the_period_end', lambda x: data_maxdate - x.dropna().max()), #days_before_the_period_end for current frame.\n",
    "                                         ('interval_dates' , lambda x: x.dropna().max() - x.dropna().min()),  #interval calculated as the latest date on which customer visited - oldest date on which they visited.\n",
    "                                         ('unqiue_date_num' , lambda x: len(set(x.dropna())))] , # Unique number of dates customer visited.           \n",
    "                                                         })\n",
    "    \n",
    "    # Drop the parent level of features and reset index\n",
    "    data_df.columns = data_df.columns.droplevel() \n",
    "    data_df = data_df .reset_index()\n",
    "    \n",
    "    data_df['interval_dates'] = data_df['interval_dates'].dt.days\n",
    "    data_df['days_before_the_period_start'] = data_df['days_before_the_period_start'].dt.days\n",
    "    data_df['days_before_the_period_end'] = data_df['days_before_the_period_end'].dt.days\n",
    "\n",
    "    \n",
    "    print(\"feature engineering process done..!\")\n",
    "  \n",
    "    \n",
    "    #print(data_df)\n",
    "    visitorIDs = data_df['fullVisitorId'].values\n",
    "    # Reading pretrained classification model:\n",
    "\n",
    "    final_pred=0\n",
    "    for i in range(10):\n",
    "        with open('/content/drive/MyDrive/Colab_Notebooks/Google_Analytics_Customer_Revenue_Prediction/dt_model_clf/dt_clf_itr_'+str(i)+'.txt', 'rb') as file:\n",
    "          clf = pickle.load(file)\n",
    "        clf_pred = clf.predict_proba(data_df.drop('fullVisitorId',axis=1))[:,1]\n",
    "        \n",
    "        with open('/content/drive/MyDrive/Colab_Notebooks/Google_Analytics_Customer_Revenue_Prediction/dt_model_reg/dt_reg_itr_'+str(i)+'.txt', 'rb') as file:\n",
    "          reg = pickle.load(file)\n",
    "        reg_pred = reg.predict(data_df.drop('fullVisitorId',axis=1))\n",
    "\n",
    "        final_pred = final_pred + (clf_pred*reg_pred)\n",
    "\n",
    "    final_pred /=10 \n",
    "    \n",
    "    print(\"prediction for given query data points done..!\")\n",
    "    \n",
    "    return final_pred, visitorIDs"
   ]
  },
  {
   "cell_type": "code",
   "execution_count": 6,
   "metadata": {
    "id": "vWrCWi3CLdQR"
   },
   "outputs": [],
   "source": [
    "test_df = pd.read_csv('/content/drive/MyDrive/Colab_Notebooks/Google_Analytics_Customer_Revenue_Prediction/test_df.csv',dtype={'fullVisitorId': 'str'},parse_dates = ['date'])"
   ]
  },
  {
   "cell_type": "code",
   "execution_count": 58,
   "metadata": {
    "colab": {
     "base_uri": "https://localhost:8080/"
    },
    "id": "wnBX8ZZPMUBb",
    "outputId": "83261247-70df-42d9-8246-f2ed2b25ffce"
   },
   "outputs": [
    {
     "name": "stdout",
     "output_type": "stream",
     "text": [
      "Boolean feature preprocessing done..!\n",
      "Numerical feature preprocessing done..!\n",
      "categorical feature preprocessing done..!\n",
      "feature engineering process done..!\n",
      "prediction for given query data points done..!\n"
     ]
    }
   ],
   "source": [
    "predictions,visitorIDs =  final_prediction(test_df[0:1])"
   ]
  },
  {
   "cell_type": "code",
   "execution_count": 59,
   "metadata": {
    "colab": {
     "base_uri": "https://localhost:8080/"
    },
    "id": "Y21d5gxT87uZ",
    "outputId": "22a97463-21f9-440f-9948-97fb1e008a9c"
   },
   "outputs": [
    {
     "data": {
      "text/plain": [
       "array([0.00854276])"
      ]
     },
     "execution_count": 59,
     "metadata": {},
     "output_type": "execute_result"
    }
   ],
   "source": [
    "predictions"
   ]
  },
  {
   "cell_type": "code",
   "execution_count": 60,
   "metadata": {
    "colab": {
     "base_uri": "https://localhost:8080/",
     "height": 81
    },
    "id": "WfbMc8YxVIR3",
    "outputId": "74a3e980-7d94-4195-d817-959d27f26784"
   },
   "outputs": [
    {
     "data": {
      "text/html": [
       "\n",
       "  <div id=\"df-4aa5d07d-b789-4181-8212-08e836967977\">\n",
       "    <div class=\"colab-df-container\">\n",
       "      <div>\n",
       "<style scoped>\n",
       "    .dataframe tbody tr th:only-of-type {\n",
       "        vertical-align: middle;\n",
       "    }\n",
       "\n",
       "    .dataframe tbody tr th {\n",
       "        vertical-align: top;\n",
       "    }\n",
       "\n",
       "    .dataframe thead th {\n",
       "        text-align: right;\n",
       "    }\n",
       "</style>\n",
       "<table border=\"1\" class=\"dataframe\">\n",
       "  <thead>\n",
       "    <tr style=\"text-align: right;\">\n",
       "      <th></th>\n",
       "      <th>fullVisitorId</th>\n",
       "      <th>predictions</th>\n",
       "    </tr>\n",
       "  </thead>\n",
       "  <tbody>\n",
       "    <tr>\n",
       "      <th>0</th>\n",
       "      <td>7460955084541987166</td>\n",
       "      <td>0.008543</td>\n",
       "    </tr>\n",
       "  </tbody>\n",
       "</table>\n",
       "</div>\n",
       "      <button class=\"colab-df-convert\" onclick=\"convertToInteractive('df-4aa5d07d-b789-4181-8212-08e836967977')\"\n",
       "              title=\"Convert this dataframe to an interactive table.\"\n",
       "              style=\"display:none;\">\n",
       "        \n",
       "  <svg xmlns=\"http://www.w3.org/2000/svg\" height=\"24px\"viewBox=\"0 0 24 24\"\n",
       "       width=\"24px\">\n",
       "    <path d=\"M0 0h24v24H0V0z\" fill=\"none\"/>\n",
       "    <path d=\"M18.56 5.44l.94 2.06.94-2.06 2.06-.94-2.06-.94-.94-2.06-.94 2.06-2.06.94zm-11 1L8.5 8.5l.94-2.06 2.06-.94-2.06-.94L8.5 2.5l-.94 2.06-2.06.94zm10 10l.94 2.06.94-2.06 2.06-.94-2.06-.94-.94-2.06-.94 2.06-2.06.94z\"/><path d=\"M17.41 7.96l-1.37-1.37c-.4-.4-.92-.59-1.43-.59-.52 0-1.04.2-1.43.59L10.3 9.45l-7.72 7.72c-.78.78-.78 2.05 0 2.83L4 21.41c.39.39.9.59 1.41.59.51 0 1.02-.2 1.41-.59l7.78-7.78 2.81-2.81c.8-.78.8-2.07 0-2.86zM5.41 20L4 18.59l7.72-7.72 1.47 1.35L5.41 20z\"/>\n",
       "  </svg>\n",
       "      </button>\n",
       "      \n",
       "  <style>\n",
       "    .colab-df-container {\n",
       "      display:flex;\n",
       "      flex-wrap:wrap;\n",
       "      gap: 12px;\n",
       "    }\n",
       "\n",
       "    .colab-df-convert {\n",
       "      background-color: #E8F0FE;\n",
       "      border: none;\n",
       "      border-radius: 50%;\n",
       "      cursor: pointer;\n",
       "      display: none;\n",
       "      fill: #1967D2;\n",
       "      height: 32px;\n",
       "      padding: 0 0 0 0;\n",
       "      width: 32px;\n",
       "    }\n",
       "\n",
       "    .colab-df-convert:hover {\n",
       "      background-color: #E2EBFA;\n",
       "      box-shadow: 0px 1px 2px rgba(60, 64, 67, 0.3), 0px 1px 3px 1px rgba(60, 64, 67, 0.15);\n",
       "      fill: #174EA6;\n",
       "    }\n",
       "\n",
       "    [theme=dark] .colab-df-convert {\n",
       "      background-color: #3B4455;\n",
       "      fill: #D2E3FC;\n",
       "    }\n",
       "\n",
       "    [theme=dark] .colab-df-convert:hover {\n",
       "      background-color: #434B5C;\n",
       "      box-shadow: 0px 1px 3px 1px rgba(0, 0, 0, 0.15);\n",
       "      filter: drop-shadow(0px 1px 2px rgba(0, 0, 0, 0.3));\n",
       "      fill: #FFFFFF;\n",
       "    }\n",
       "  </style>\n",
       "\n",
       "      <script>\n",
       "        const buttonEl =\n",
       "          document.querySelector('#df-4aa5d07d-b789-4181-8212-08e836967977 button.colab-df-convert');\n",
       "        buttonEl.style.display =\n",
       "          google.colab.kernel.accessAllowed ? 'block' : 'none';\n",
       "\n",
       "        async function convertToInteractive(key) {\n",
       "          const element = document.querySelector('#df-4aa5d07d-b789-4181-8212-08e836967977');\n",
       "          const dataTable =\n",
       "            await google.colab.kernel.invokeFunction('convertToInteractive',\n",
       "                                                     [key], {});\n",
       "          if (!dataTable) return;\n",
       "\n",
       "          const docLinkHtml = 'Like what you see? Visit the ' +\n",
       "            '<a target=\"_blank\" href=https://colab.research.google.com/notebooks/data_table.ipynb>data table notebook</a>'\n",
       "            + ' to learn more about interactive tables.';\n",
       "          element.innerHTML = '';\n",
       "          dataTable['output_type'] = 'display_data';\n",
       "          await google.colab.output.renderOutput(dataTable, element);\n",
       "          const docLink = document.createElement('div');\n",
       "          docLink.innerHTML = docLinkHtml;\n",
       "          element.appendChild(docLink);\n",
       "        }\n",
       "      </script>\n",
       "    </div>\n",
       "  </div>\n",
       "  "
      ],
      "text/plain": [
       "         fullVisitorId  predictions\n",
       "0  7460955084541987166     0.008543"
      ]
     },
     "execution_count": 60,
     "metadata": {},
     "output_type": "execute_result"
    }
   ],
   "source": [
    "pd.DataFrame({'fullVisitorId':visitorIDs,'predictions':predictions})"
   ]
  }
 ],
 "metadata": {
  "colab": {
   "name": "final.ipynb",
   "provenance": []
  },
  "kernelspec": {
   "display_name": "Python 3",
   "language": "python",
   "name": "python3"
  },
  "language_info": {
   "codemirror_mode": {
    "name": "ipython",
    "version": 3
   },
   "file_extension": ".py",
   "mimetype": "text/x-python",
   "name": "python",
   "nbconvert_exporter": "python",
   "pygments_lexer": "ipython3",
   "version": "3.6.5"
  }
 },
 "nbformat": 4,
 "nbformat_minor": 1
}
